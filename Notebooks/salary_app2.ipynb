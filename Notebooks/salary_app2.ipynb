{
 "cells": [
  {
   "cell_type": "code",
   "execution_count": 1,
   "id": "6fa0d264",
   "metadata": {},
   "outputs": [
    {
     "name": "stdout",
     "output_type": "stream",
     "text": [
      " * Serving Flask app \"SALARY PREDICTION APP\" (lazy loading)\n",
      " * Environment: production\n",
      "   WARNING: This is a development server. Do not use it in a production deployment.\n",
      "   Use a production WSGI server instead.\n",
      " * Debug mode: on\n"
     ]
    },
    {
     "name": "stderr",
     "output_type": "stream",
     "text": [
      " * Restarting with windowsapi reloader\n"
     ]
    },
    {
     "ename": "SystemExit",
     "evalue": "1",
     "output_type": "error",
     "traceback": [
      "An exception has occurred, use %tb to see the full traceback.\n",
      "\u001b[1;31mSystemExit\u001b[0m\u001b[1;31m:\u001b[0m 1\n"
     ]
    },
    {
     "name": "stderr",
     "output_type": "stream",
     "text": [
      "C:\\Users\\JAHFAITH IROKANULO\\anaconda3\\lib\\site-packages\\IPython\\core\\interactiveshell.py:3445: UserWarning: To exit: use 'exit', 'quit', or Ctrl-D.\n",
      "  warn(\"To exit: use 'exit', 'quit', or Ctrl-D.\", stacklevel=1)\n"
     ]
    }
   ],
   "source": [
    "#import required packages\n",
    "from flask import Flask, render_template, request, jsonify\n",
    "import pickle\n",
    "\n",
    "\n",
    "#create a Flask object\n",
    "app = Flask(\"SALARY PREDICTION APP\")\n",
    "\n",
    "#load the ml model which we have saved earlier in .pkl format\n",
    "model = pickle.load(open('Pace_Model.pkl', 'rb'))\n",
    "\n",
    "#define the route(basically url) to which we need to send http request\n",
    "#HTTP GET request method\n",
    "@app.route('/',methods=['GET'])\n",
    "\n",
    "#create a function Home that will return index.html(which contains html form)\n",
    "#index.html file is created seperately\n",
    "def Home():\n",
    "    return render_template('index.html')\n",
    "\n",
    "#HTTP POST request method\n",
    "#define the route for post method \n",
    "@app.route(\"/predict\", methods=['POST'])\n",
    "\n",
    "#define the predict function which is going to predict the results from ml model based on the given values through html form\n",
    "def predict():\n",
    "    \n",
    "    if request.method == 'POST':\n",
    "\n",
    "        #Use request.form to get the data from html form through post method.\n",
    "        #these are features of our salary dataset(ml model)\n",
    "        \n",
    "        Degree = bool(request.form['Degree'])\n",
    "        Experience = int(request.form['Experience'])\n",
    "        \n",
    "        Company_location = str(request.form['Company_location'])\n",
    "        #Company_location is categorised into America, Europe, Nigeria, and Africa. It was label encoded during model development, therefore, we will assign their codes to them to enable the api send the right message to the machine.\n",
    "        if Company_location == 'America':\n",
    "            Company_location = 0\n",
    "        elif Company_location == 'Europe':\n",
    "            Company_location = 1\n",
    "        elif Company_location == 'Nigeria':\n",
    "            Company_location = 2\n",
    "        elif Company_location == 'Africa':\n",
    "            Company_location = 3\n",
    "            \n",
    "        Title = str(request.form['Title'])\n",
    "        #Job Title was grouped into Backend, Frontend, Devops and others as listed below. It was also label encoded with the below codes that are assigned to the titles.\n",
    "        if Title == 'Backend':\n",
    "            Title = 0\n",
    "        elif Title == 'Data Engineer':\n",
    "            Title = 2\n",
    "        elif Title == 'DevOps':\n",
    "            Title = 2\n",
    "        elif Title == 'Data Scientist':\n",
    "            Title = 1\n",
    "        elif Title == 'Data Analyst':\n",
    "            Title = 1\n",
    "        elif Title == 'Frontend':\n",
    "            Title = 3\n",
    "        elif Title == 'Fullstack':\n",
    "            Title = 4\n",
    "        elif Title == 'IT':\n",
    "            Title = 6\n",
    "        elif Title == 'Product Designer':\n",
    "            Title = 7\n",
    "        elif Title == 'Software Engineer':\n",
    "            Title = 8\n",
    "        elif Title == 'Graphics Designer':\n",
    "            Title = 5\n",
    "        \n",
    "        #Model Prediction.\n",
    "        data = [[Degree, Experience, Company_location, Title]]\n",
    "        prediction = model.predict(data)\n",
    "        sal = prediction\n",
    "        \n",
    "        #Recall that our target variable was also label encoded. '101k-200k' was encoded 0, '201k-300k' was encoded 1 during the model development. Hence,\n",
    "        if sal==0:\n",
    "            prediction='101k-200k'\n",
    "        elif sal==1:\n",
    "            prediction='201k-300k'\n",
    "        elif sal==2:\n",
    "            prediction='301k-400k'\n",
    "        elif sal==3:\n",
    "            prediction='401k-500k'\n",
    "        elif sal==4:\n",
    "            prediction='50k-100k'\n",
    "        elif sal==5:\n",
    "            prediction='<50k'\n",
    "        elif sal==6:\n",
    "            prediction='>500k'\n",
    "        return {'Salary Range': prediction}\n",
    "        \n",
    "        \n",
    "        \n",
    "    #html form to be displayed on screen when no values are inserted; without any output or prediction\n",
    "    else:\n",
    "        return render_template('index.html')\n",
    "\n",
    "\n",
    "if __name__==\"__main__\":\n",
    "    #run method starts our web service\n",
    "    #Debug : as soon as I save anything in my structure, server should start again\n",
    "    app.run(debug=True)"
   ]
  },
  {
   "cell_type": "code",
   "execution_count": null,
   "id": "5526a71d",
   "metadata": {},
   "outputs": [],
   "source": []
  }
 ],
 "metadata": {
  "kernelspec": {
   "display_name": "Python 3",
   "language": "python",
   "name": "python3"
  },
  "language_info": {
   "codemirror_mode": {
    "name": "ipython",
    "version": 3
   },
   "file_extension": ".py",
   "mimetype": "text/x-python",
   "name": "python",
   "nbconvert_exporter": "python",
   "pygments_lexer": "ipython3",
   "version": "3.8.8"
  }
 },
 "nbformat": 4,
 "nbformat_minor": 5
}
